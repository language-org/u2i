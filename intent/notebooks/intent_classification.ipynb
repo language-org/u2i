{
 "cells": [
  {
   "cell_type": "markdown",
   "metadata": {},
   "source": [
    "# Intent classification the Banking77 dataset\n",
    "\n",
    "**Candidate approach**\n",
    "    * Set baseline performance with the simplest interpretable model\n",
    "    * Set ideal performance with the State of the art model  \n",
    "    * Find a tradeoff interpretable model with good performance and fast training  \n"
   ]
  },
  {
   "cell_type": "markdown",
   "metadata": {},
   "source": [
    "## Setup"
   ]
  },
  {
   "cell_type": "markdown",
   "metadata": {},
   "source": [
    "### Dependencies"
   ]
  },
  {
   "cell_type": "code",
   "execution_count": 7,
   "metadata": {},
   "outputs": [],
   "source": [
    "import os\n",
    "import pandas as pd\n",
    "from sklearn.feature_extraction.text import CountVectorizer\n",
    "from sklearn.linear_model import LogisticRegression\n",
    "from sklearn.metrics import confusion_matrix, plot_confusion_matrix, classification_report"
   ]
  },
  {
   "cell_type": "markdown",
   "metadata": {},
   "source": [
    "### Paths"
   ]
  },
  {
   "cell_type": "code",
   "execution_count": 8,
   "metadata": {},
   "outputs": [],
   "source": [
    "proj_path = \"/Users/steeve_laquitaine/desktop/CodeHub/intent/intent/\"\n",
    "train_data_path = proj_path + \"data/01_raw/banking77/train.csv\"\n",
    "test_data_path = proj_path + \"data/01_raw/banking77/test.csv\""
   ]
  },
  {
   "cell_type": "markdown",
   "metadata": {},
   "source": [
    "## Load data"
   ]
  },
  {
   "cell_type": "markdown",
   "metadata": {},
   "source": [
    "Most public corpora found had little data, except a task-oriented banking dataset Banking77. So we use it as a benchmark."
   ]
  },
  {
   "cell_type": "markdown",
   "metadata": {},
   "source": [
    "### Load"
   ]
  },
  {
   "cell_type": "code",
   "execution_count": 9,
   "metadata": {},
   "outputs": [],
   "source": [
    "train_data  = pd.read_csv(train_data_path)\n",
    "test_data  = pd.read_csv(test_data_path)"
   ]
  },
  {
   "cell_type": "code",
   "execution_count": 10,
   "metadata": {},
   "outputs": [
    {
     "output_type": "execute_result",
     "data": {
      "text/plain": "                                                text      category\n0                     I am still waiting on my card?  card_arrival\n1  What can I do if my card still hasn't arrived ...  card_arrival\n2  I have been waiting over a week. Is the card s...  card_arrival\n3  Can I track my card while it is in the process...  card_arrival\n4  How do I know if I will get my card, or if it ...  card_arrival",
      "text/html": "<div>\n<style scoped>\n    .dataframe tbody tr th:only-of-type {\n        vertical-align: middle;\n    }\n\n    .dataframe tbody tr th {\n        vertical-align: top;\n    }\n\n    .dataframe thead th {\n        text-align: right;\n    }\n</style>\n<table border=\"1\" class=\"dataframe\">\n  <thead>\n    <tr style=\"text-align: right;\">\n      <th></th>\n      <th>text</th>\n      <th>category</th>\n    </tr>\n  </thead>\n  <tbody>\n    <tr>\n      <th>0</th>\n      <td>I am still waiting on my card?</td>\n      <td>card_arrival</td>\n    </tr>\n    <tr>\n      <th>1</th>\n      <td>What can I do if my card still hasn't arrived ...</td>\n      <td>card_arrival</td>\n    </tr>\n    <tr>\n      <th>2</th>\n      <td>I have been waiting over a week. Is the card s...</td>\n      <td>card_arrival</td>\n    </tr>\n    <tr>\n      <th>3</th>\n      <td>Can I track my card while it is in the process...</td>\n      <td>card_arrival</td>\n    </tr>\n    <tr>\n      <th>4</th>\n      <td>How do I know if I will get my card, or if it ...</td>\n      <td>card_arrival</td>\n    </tr>\n  </tbody>\n</table>\n</div>"
     },
     "metadata": {},
     "execution_count": 10
    }
   ],
   "source": [
    "# preview\n",
    "train_data.head(5)"
   ]
  },
  {
   "cell_type": "markdown",
   "metadata": {},
   "source": [
    "### Preview"
   ]
  },
  {
   "cell_type": "code",
   "execution_count": 11,
   "metadata": {},
   "outputs": [
    {
     "output_type": "execute_result",
     "data": {
      "text/plain": "                                                text      category\n0                           How do I locate my card?  card_arrival\n1  I still have not received my new card, I order...  card_arrival\n2  I ordered a card but it has not arrived. Help ...  card_arrival\n3   Is there a way to know when my card will arrive?  card_arrival\n4                       My card has not arrived yet.  card_arrival",
      "text/html": "<div>\n<style scoped>\n    .dataframe tbody tr th:only-of-type {\n        vertical-align: middle;\n    }\n\n    .dataframe tbody tr th {\n        vertical-align: top;\n    }\n\n    .dataframe thead th {\n        text-align: right;\n    }\n</style>\n<table border=\"1\" class=\"dataframe\">\n  <thead>\n    <tr style=\"text-align: right;\">\n      <th></th>\n      <th>text</th>\n      <th>category</th>\n    </tr>\n  </thead>\n  <tbody>\n    <tr>\n      <th>0</th>\n      <td>How do I locate my card?</td>\n      <td>card_arrival</td>\n    </tr>\n    <tr>\n      <th>1</th>\n      <td>I still have not received my new card, I order...</td>\n      <td>card_arrival</td>\n    </tr>\n    <tr>\n      <th>2</th>\n      <td>I ordered a card but it has not arrived. Help ...</td>\n      <td>card_arrival</td>\n    </tr>\n    <tr>\n      <th>3</th>\n      <td>Is there a way to know when my card will arrive?</td>\n      <td>card_arrival</td>\n    </tr>\n    <tr>\n      <th>4</th>\n      <td>My card has not arrived yet.</td>\n      <td>card_arrival</td>\n    </tr>\n  </tbody>\n</table>\n</div>"
     },
     "metadata": {},
     "execution_count": 11
    }
   ],
   "source": [
    "# preview\n",
    "test_data.head(5)"
   ]
  },
  {
   "cell_type": "markdown",
   "metadata": {},
   "source": [
    "### normalize columns"
   ]
  },
  {
   "cell_type": "code",
   "execution_count": 12,
   "metadata": {},
   "outputs": [],
   "source": [
    "def standardize_col_names(data:pd.DataFrame):\n",
    "    return data.rename(columns={\"text\":\"text\",\"category\":\"intent\"})"
   ]
  },
  {
   "cell_type": "code",
   "execution_count": 13,
   "metadata": {},
   "outputs": [],
   "source": [
    "train_data = standardize_col_names(train_data)\n",
    "test_data = standardize_col_names(test_data)"
   ]
  },
  {
   "cell_type": "markdown",
   "metadata": {},
   "source": [
    "### summary description "
   ]
  },
  {
   "cell_type": "code",
   "execution_count": 14,
   "metadata": {
    "tags": []
   },
   "outputs": [
    {
     "output_type": "stream",
     "name": "stdout",
     "text": "\nValue count:\n\ntext      10003\nintent    10003\ndtype: int64\n\nUnique values:\n\ntext      10003\nintent       77\ndtype: int64\n"
    }
   ],
   "source": [
    "print(\"\\nValue count:\\n\")\n",
    "print(train_data.count())\n",
    "print(\"\\nUnique values:\\n\")\n",
    "print(train_data.nunique())"
   ]
  },
  {
   "cell_type": "markdown",
   "metadata": {},
   "source": [
    "## Explore the data\n",
    "\n",
    "* cleanliness?\n",
    "* intent imbalance?\n",
    "* Task complexity\n",
    "    * average query length?"
   ]
  },
  {
   "cell_type": "code",
   "execution_count": null,
   "metadata": {},
   "outputs": [],
   "source": []
  },
  {
   "cell_type": "markdown",
   "metadata": {},
   "source": [
    "## Baseline modeling performance"
   ]
  },
  {
   "cell_type": "markdown",
   "metadata": {},
   "source": [
    "### BOW + multinomial log. reg\n",
    "\n",
    "* feature engineering: bag of words  \n",
    "    * unigrams\n",
    "* model: logistic regression  "
   ]
  },
  {
   "cell_type": "code",
   "execution_count": 15,
   "metadata": {},
   "outputs": [],
   "source": [
    "def get_txt(txt):\n",
    "    txt = txt['text']\n",
    "    return txt\n",
    "\n",
    "def get_intent(txt):\n",
    "    intent = txt['intent']\n",
    "    return intent\n",
    "\n",
    "def do_bag_of_words(train_txt:pd.DataFrame, test_txt:pd.DataFrame, params:dict):\n",
    "    \"\"\"\n",
    "    Encode commands as bags-of-words\n",
    "    \"\"\"\n",
    "\n",
    "    # build vectorizer\n",
    "    cv = CountVectorizer(\n",
    "        binary = params['binary'], \n",
    "        min_df = params['min_df'], \n",
    "        max_df = params['max_df'], \n",
    "        ngram_range = params['ngram_range']\n",
    "    )  \n",
    "\n",
    "    # encode as BOW\n",
    "    train_features = cv.fit_transform(train_txt)\n",
    "    test_features = cv.transform(test_txt)\n",
    "    \n",
    "    return train_features, test_features, cv"
   ]
  },
  {
   "cell_type": "code",
   "execution_count": 16,
   "metadata": {},
   "outputs": [],
   "source": [
    "# set BOW params\n",
    "params = dict({\n",
    "    'binary': False,\n",
    "    'min_df': 0.0,    \n",
    "    'max_df': 1.0,\n",
    "    'ngram_range':(1,1)\n",
    "})"
   ]
  },
  {
   "cell_type": "code",
   "execution_count": 17,
   "metadata": {},
   "outputs": [],
   "source": [
    "# get text and intents\n",
    "train_txt = get_txt(train_data)\n",
    "test_txt = get_txt(test_data)\n",
    "train_intent = get_intent(train_data)\n",
    "test_intent = get_intent(test_data)"
   ]
  },
  {
   "cell_type": "code",
   "execution_count": 18,
   "metadata": {
    "scrolled": false
   },
   "outputs": [],
   "source": [
    "# encode as BOW\n",
    "train_feature, test_feature, cv = do_bag_of_words(train_txt, test_txt, params);"
   ]
  },
  {
   "cell_type": "code",
   "execution_count": 19,
   "metadata": {
    "scrolled": false,
    "tags": []
   },
   "outputs": [
    {
     "output_type": "stream",
     "name": "stdout",
     "text": "(# Queries, # Features):\n\ntrain:(10003, 2320)\ntrain BOW: [[0 0 0 ... 0 0 0]\n [0 0 0 ... 0 0 0]\n [0 0 0 ... 0 0 0]\n ...\n [0 0 0 ... 0 0 0]\n [0 0 0 ... 0 0 0]\n [0 0 0 ... 0 0 0]]\n\ntest:(3080, 2320)\ntest BOW: [[0 0 0 ... 0 0 0]\n [0 0 0 ... 0 0 0]\n [0 0 0 ... 0 0 0]\n ...\n [0 0 0 ... 0 0 0]\n [0 0 0 ... 0 0 0]\n [0 0 0 ... 0 0 0]]\n\nPredictive features:\n\n['00', '000', '10', '100', '13', '16', '18', '1818', '1l', '20', '200', '2018', '30', '3d', '40', '45', '50', '500', '5x', '60', '80', 'able', 'about', 'above', 'abroad', 'absolutely', 'accept', 'acceptable', 'accepted', 'accepting', 'accepts', 'access', 'accessed', 'accessible', 'accessing', 'accident', 'accidentally', 'accidently', 'accommodated', 'according', 'accordingly', 'account', 'accounts', 'accurate', 'achieve', 'acount', 'acquiring', 'across', 'acting', 'action', 'actions', 'activate', 'activated', 'activating', 'activation', 'active', 'activity', 'actual', 'actually', 'actuate', 'add', 'added', 'adding', 'addition', 'additional', 'additionally', 'address', 'addressed', 'addressing', 'adjusted', 'adress', 'advance', 'advertise', 'advise', 'advised', 'affect', 'afford', 'afraid', 'africa', 'after', 'afternoon', 'again', 'age', 'agent', 'ages', 'aggravated', 'ago', 'ahead', 'ahold', 'ain', 'airline', 'airport', 'alert', 'all', 'allow', 'allowable', 'allowance', 'allowances', 'allowed', 'allowing']\n\n Predicted intents:\n\n ['card_arrival' 'card_linking' 'exchange_rate'\n 'card_payment_wrong_exchange_rate' 'extra_charge_on_statement'\n 'pending_cash_withdrawal' 'fiat_currency_support'\n 'card_delivery_estimate' 'automatic_top_up' 'card_not_working'\n 'exchange_via_app' 'lost_or_stolen_card' 'age_limit' 'pin_blocked'\n 'contactless_not_working' 'top_up_by_bank_transfer_charge'\n 'pending_top_up' 'cancel_transfer' 'top_up_limits'\n 'wrong_amount_of_cash_received' 'card_payment_fee_charged'\n 'transfer_not_received_by_recipient' 'supported_cards_and_currencies'\n 'getting_virtual_card' 'card_acceptance' 'top_up_reverted'\n 'balance_not_updated_after_cheque_or_cash_deposit'\n 'card_payment_not_recognised' 'edit_personal_details'\n 'why_verify_identity']\n"
    }
   ],
   "source": [
    "# checks\n",
    "print(\"(# Queries, # Features):\\n\")\n",
    "print(\"train:\"+str(train_feature.shape))\n",
    "print(\"train BOW:\", train_feature.todense())\n",
    "print(\"\\ntest:\"+str(test_feature.shape))\n",
    "print(\"test BOW:\", train_feature.todense())\n",
    "print(\"\\nPredictive features:\\n\\n\"+str(cv.get_feature_names()[:100]))\n",
    "print(\"\\n Predicted intents:\\n\\n\", train_intent.unique()[:30])"
   ]
  },
  {
   "cell_type": "code",
   "execution_count": 20,
   "metadata": {
    "tags": []
   },
   "outputs": [
    {
     "output_type": "stream",
     "name": "stdout",
     "text": "Training completed\n"
    }
   ],
   "source": [
    "# fit logistic regression  \n",
    "clf = LogisticRegression(random_state=0, multi_class='multinomial').fit(train_feature, train_intent)\n",
    "print(\"Training completed\")"
   ]
  },
  {
   "cell_type": "code",
   "execution_count": 21,
   "metadata": {},
   "outputs": [
    {
     "output_type": "execute_result",
     "data": {
      "text/plain": "                                            0\n644                            pending_top_up\n2655                            top_up_failed\n2766                          exchange_charge\n301                           country_support\n181                 extra_charge_on_statement\n1348                       topping_up_by_card\n2719  balance_not_updated_after_bank_transfer\n1261                        get_physical_card\n736                             top_up_limits\n513                                 age_limit",
      "text/html": "<div>\n<style scoped>\n    .dataframe tbody tr th:only-of-type {\n        vertical-align: middle;\n    }\n\n    .dataframe tbody tr th {\n        vertical-align: top;\n    }\n\n    .dataframe thead th {\n        text-align: right;\n    }\n</style>\n<table border=\"1\" class=\"dataframe\">\n  <thead>\n    <tr style=\"text-align: right;\">\n      <th></th>\n      <th>0</th>\n    </tr>\n  </thead>\n  <tbody>\n    <tr>\n      <th>644</th>\n      <td>pending_top_up</td>\n    </tr>\n    <tr>\n      <th>2655</th>\n      <td>top_up_failed</td>\n    </tr>\n    <tr>\n      <th>2766</th>\n      <td>exchange_charge</td>\n    </tr>\n    <tr>\n      <th>301</th>\n      <td>country_support</td>\n    </tr>\n    <tr>\n      <th>181</th>\n      <td>extra_charge_on_statement</td>\n    </tr>\n    <tr>\n      <th>1348</th>\n      <td>topping_up_by_card</td>\n    </tr>\n    <tr>\n      <th>2719</th>\n      <td>balance_not_updated_after_bank_transfer</td>\n    </tr>\n    <tr>\n      <th>1261</th>\n      <td>get_physical_card</td>\n    </tr>\n    <tr>\n      <th>736</th>\n      <td>top_up_limits</td>\n    </tr>\n    <tr>\n      <th>513</th>\n      <td>age_limit</td>\n    </tr>\n  </tbody>\n</table>\n</div>"
     },
     "metadata": {},
     "execution_count": 21
    }
   ],
   "source": [
    "# check predictions\n",
    "predicted_test_intent = clf.predict(test_feature)\n",
    "pd.DataFrame(predicted_test_intent).sample(n=10)"
   ]
  },
  {
   "cell_type": "code",
   "execution_count": 22,
   "metadata": {
    "tags": []
   },
   "outputs": [
    {
     "output_type": "stream",
     "name": "stdout",
     "text": "\nConfusion matrix:\n\n [[35  0  0 ...  0  0  0]\n [ 0 38  0 ...  0  0  0]\n [ 0  0 40 ...  0  0  0]\n ...\n [ 0  0  0 ... 32  0  0]\n [ 0  0  0 ...  0 35  0]\n [ 0  0  0 ...  0  0 31]]\n\nEvaluation metrics:\n\n                                                   precision    recall  f1-score   support\n\n                           Refund_not_showing_up       0.97      0.88      0.92        40\n                                activate_my_card       0.97      0.95      0.96        40\n                                       age_limit       0.98      1.00      0.99        40\n                         apple_pay_or_google_pay       0.98      1.00      0.99        40\n                                     atm_support       0.93      0.93      0.93        40\n                                automatic_top_up       1.00      0.88      0.93        40\n         balance_not_updated_after_bank_transfer       0.72      0.78      0.75        40\nbalance_not_updated_after_cheque_or_cash_deposit       0.86      0.95      0.90        40\n                         beneficiary_not_allowed       0.95      0.90      0.92        40\n                                 cancel_transfer       0.93      0.95      0.94        40\n                            card_about_to_expire       0.93      1.00      0.96        40\n                                 card_acceptance       0.82      0.82      0.82        40\n                                    card_arrival       0.81      0.88      0.84        40\n                          card_delivery_estimate       0.90      0.90      0.90        40\n                                    card_linking       0.91      0.97      0.94        40\n                                card_not_working       0.64      0.88      0.74        40\n                        card_payment_fee_charged       0.89      0.85      0.87        40\n                     card_payment_not_recognised       0.80      0.82      0.81        40\n                card_payment_wrong_exchange_rate       0.93      0.93      0.93        40\n                                  card_swallowed       0.97      0.88      0.92        40\n                          cash_withdrawal_charge       0.90      0.90      0.90        40\n                  cash_withdrawal_not_recognised       0.82      0.93      0.87        40\n                                      change_pin       0.97      0.93      0.95        40\n                                compromised_card       0.91      0.75      0.82        40\n                         contactless_not_working       1.00      0.80      0.89        40\n                                 country_support       0.88      0.95      0.92        40\n                           declined_card_payment       0.83      0.95      0.88        40\n                        declined_cash_withdrawal       0.84      0.93      0.88        40\n                               declined_transfer       0.94      0.78      0.85        40\n             direct_debit_payment_not_recognised       0.97      0.78      0.86        40\n                          disposable_card_limits       0.92      0.82      0.87        40\n                           edit_personal_details       0.95      1.00      0.98        40\n                                 exchange_charge       0.85      0.88      0.86        40\n                                   exchange_rate       0.89      0.97      0.93        40\n                                exchange_via_app       0.83      0.85      0.84        40\n                       extra_charge_on_statement       0.81      0.88      0.84        40\n                                 failed_transfer       0.83      0.85      0.84        40\n                           fiat_currency_support       0.94      0.80      0.86        40\n                     get_disposable_virtual_card       0.85      0.82      0.84        40\n                               get_physical_card       0.86      0.95      0.90        40\n                              getting_spare_card       0.93      0.95      0.94        40\n                            getting_virtual_card       0.78      0.97      0.87        40\n                             lost_or_stolen_card       0.92      0.90      0.91        40\n                            lost_or_stolen_phone       1.00      0.95      0.97        40\n                             order_physical_card       0.90      0.88      0.89        40\n                              passcode_forgotten       1.00      1.00      1.00        40\n                            pending_card_payment       0.86      0.90      0.88        40\n                         pending_cash_withdrawal       0.95      0.88      0.91        40\n                                  pending_top_up       0.94      0.85      0.89        40\n                                pending_transfer       0.83      0.75      0.79        40\n                                     pin_blocked       0.94      0.80      0.86        40\n                                 receiving_money       0.89      0.85      0.87        40\n                                  request_refund       0.90      0.95      0.93        40\n                          reverted_card_payment?       0.92      0.85      0.88        40\n                  supported_cards_and_currencies       0.86      0.93      0.89        40\n                               terminate_account       0.83      1.00      0.91        40\n                  top_up_by_bank_transfer_charge       0.88      0.88      0.88        40\n                           top_up_by_card_charge       0.95      0.95      0.95        40\n                        top_up_by_cash_or_cheque       0.95      0.95      0.95        40\n                                   top_up_failed       0.77      0.82      0.80        40\n                                   top_up_limits       0.91      0.97      0.94        40\n                                 top_up_reverted       0.83      0.85      0.84        40\n                              topping_up_by_card       0.92      0.85      0.88        40\n                       transaction_charged_twice       0.87      1.00      0.93        40\n                            transfer_fee_charged       0.85      0.85      0.85        40\n                           transfer_into_account       0.85      0.85      0.85        40\n              transfer_not_received_by_recipient       0.85      0.88      0.86        40\n                                 transfer_timing       0.83      0.85      0.84        40\n                       unable_to_verify_identity       0.83      0.85      0.84        40\n                              verify_my_identity       0.85      0.85      0.85        40\n                          verify_source_of_funds       0.91      1.00      0.95        40\n                                   verify_top_up       1.00      1.00      1.00        40\n                        virtual_card_not_working       1.00      0.72      0.84        40\n                              visa_or_mastercard       1.00      0.90      0.95        40\n                             why_verify_identity       0.78      0.80      0.79        40\n                   wrong_amount_of_cash_received       0.95      0.88      0.91        40\n         wrong_exchange_rate_for_cash_withdrawal       0.97      0.78      0.86        40\n\n                                        accuracy                           0.89      3080\n                                       macro avg       0.89      0.89      0.89      3080\n                                    weighted avg       0.89      0.89      0.89      3080\n\n"
    }
   ],
   "source": [
    "# Evaluate the model\n",
    "print(\"\\nConfusion matrix:\\n\\n\", confusion_matrix(test_intent, predicted_test_intent))\n",
    "print(\"\\nEvaluation metrics:\\n\\n\", classification_report(test_intent, predicted_test_intent))"
   ]
  },
  {
   "cell_type": "markdown",
   "metadata": {},
   "source": [
    "## model verification\n",
    "\n",
    "* check that performance on randomized dataset are at chance\n",
    "* check that most predictive features \"make intuitive sense\""
   ]
  },
  {
   "cell_type": "code",
   "execution_count": null,
   "metadata": {},
   "outputs": [],
   "source": []
  },
  {
   "cell_type": "markdown",
   "metadata": {},
   "source": [
    "## Get SOTA performance  (USE + ConverRT [1]) "
   ]
  },
  {
   "cell_type": "markdown",
   "metadata": {},
   "source": [
    "* USE + ConveRT\n",
    "    * more robust to sample size than other models: fit for few shot learning for small labelled dataset\n",
    "        * full dataset: 93.36%  \n",
    "        * 30 samples per intent: 90.57%      \n",
    "        * 10 samples per intent: 85.19%   "
   ]
  },
  {
   "cell_type": "markdown",
   "metadata": {},
   "source": [
    "## References\n",
    "[1] Casanueva, I., Temčinas, T., Gerz, D., Henderson, M., & Vulić, I. (2020). Efficient Intent Detection with Dual Sentence Encoders. arXiv preprint arXiv:2003.04807. "
   ]
  },
  {
   "cell_type": "code",
   "execution_count": null,
   "metadata": {},
   "outputs": [],
   "source": []
  }
 ],
 "metadata": {
  "kernelspec": {
   "display_name": "Python 3",
   "language": "python",
   "name": "python3"
  },
  "language_info": {
   "codemirror_mode": {
    "name": "ipython",
    "version": 3
   },
   "file_extension": ".py",
   "mimetype": "text/x-python",
   "name": "python",
   "nbconvert_exporter": "python",
   "pygments_lexer": "ipython3",
   "version": "3.7.6-final"
  },
  "toc": {
   "base_numbering": 1,
   "nav_menu": {},
   "number_sections": true,
   "sideBar": true,
   "skip_h1_title": false,
   "title_cell": "Table of Contents",
   "title_sidebar": "Contents",
   "toc_cell": false,
   "toc_position": {},
   "toc_section_display": true,
   "toc_window_display": true
  },
  "varInspector": {
   "cols": {
    "lenName": 16,
    "lenType": 16,
    "lenVar": 40
   },
   "kernels_config": {
    "python": {
     "delete_cmd_postfix": "",
     "delete_cmd_prefix": "del ",
     "library": "var_list.py",
     "varRefreshCmd": "print(var_dic_list())"
    },
    "r": {
     "delete_cmd_postfix": ") ",
     "delete_cmd_prefix": "rm(",
     "library": "var_list.r",
     "varRefreshCmd": "cat(var_dic_list()) "
    }
   },
   "oldHeight": 242,
   "position": {
    "height": "40px",
    "left": "31px",
    "right": "20px",
    "top": "522px",
    "width": "351px"
   },
   "types_to_exclude": [
    "module",
    "function",
    "builtin_function_or_method",
    "instance",
    "_Feature"
   ],
   "varInspector_section_display": "none",
   "window_display": true
  }
 },
 "nbformat": 4,
 "nbformat_minor": 4
}