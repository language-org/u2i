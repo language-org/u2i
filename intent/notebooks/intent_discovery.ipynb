{
 "cells": [
  {
   "cell_type": "markdown",
   "metadata": {},
   "source": [
    "# Intent discovery in the Banking77 dataset  \n",
    "Intent analysis\n",
    "\n",
    "* Build an NLU component\n",
    "    * CKY parser (dynamic programming, CFG algo)\n",
    "        * TO DO: search for production-grade library\n",
    "\n",
    "* Impact\n",
    "    * dataset automatic labelling --> reduce labor intensive annotation \n",
    "\n",
    "* Intent analysis (3):\n",
    "    * intention: \"want to understand\" \n",
    "    * intended object: \"the human mind\"\n",
    "    * intendee: \"Neuroscientists\"\n",
    "\n",
    "* Exploit linguistics knowledge \n",
    "    * grammar rules\n",
    "\n",
    "* **Workload**\n",
    "  * prep to clustering (1 hour)"
   ]
  },
  {
   "cell_type": "markdown",
   "metadata": {},
   "source": [
    "## Setup  \n",
    "### Dependencies"
   ]
  },
  {
   "cell_type": "code",
   "execution_count": 17,
   "metadata": {},
   "outputs": [
    {
     "output_type": "stream",
     "name": "stderr",
     "text": [
      "[nltk_data] Downloading package punkt to\n[nltk_data]     /Users/steeve_laquitaine/nltk_data...\n[nltk_data]   Package punkt is already up-to-date!\n"
     ]
    }
   ],
   "source": [
    "import os\n",
    "import pandas as pd\n",
    "\n",
    "# ml.\n",
    "from sklearn.feature_extraction.text import CountVectorizer\n",
    "from sklearn.linear_model import LogisticRegression\n",
    "from sklearn.metrics import confusion_matrix, plot_confusion_matrix, classification_report\n",
    "from sklearn.cluster import KMeans\n",
    "\n",
    "# text prep.\n",
    "import nltk\n",
    "import re\n",
    "import numpy as np\n",
    "nltk.download('punkt') # 13 MB zip containing pretrained punkt sentence tokenizer (Kiss and Strunk, 2006)\n",
    "import time\n",
    "\n",
    "# data struct. utils\n",
    "from collections import defaultdict\n",
    "\n",
    "# EDA\n",
    "from ipywidgets import interact"
   ]
  },
  {
   "cell_type": "markdown",
   "metadata": {},
   "source": [
    "### Paths"
   ]
  },
  {
   "cell_type": "code",
   "execution_count": 2,
   "metadata": {},
   "outputs": [],
   "source": [
    "proj_path = \"/Users/steeve_laquitaine/desktop/CodeHub/intent/intent/\"\n",
    "train_data_path = proj_path + \"data/01_raw/banking77/train.csv\"\n",
    "test_data_path = proj_path + \"data/01_raw/banking77/test.csv\""
   ]
  },
  {
   "source": [
    "### Parameters"
   ],
   "cell_type": "markdown",
   "metadata": {}
  },
  {
   "cell_type": "code",
   "execution_count": 66,
   "metadata": {},
   "outputs": [],
   "source": [
    "params = defaultdict()\n",
    "\n",
    "# tf-idf\n",
    "params[\"tfidf\"] = defaultdict()\n",
    "params[\"tfidf\"][\"MIN_DF\"] = 10\n",
    "params[\"tfidf\"][\"MAX_DF\"] = 0.8\n",
    "\n",
    "# stop words\n",
    "params[\"stop_words\"] = stop_words\n",
    "\n",
    "# kmeans\n",
    "params[\"kmeans\"] = defaultdict()\n",
    "params[\"kmeans\"][\"NUM_CLUSTERS\"] = 6\n",
    "params[\"kmeans\"][\"max_iter\"] = 1000\n",
    "params[\"kmeans\"][\"n_init\"] = 50\n",
    "params[\"kmeans\"][\"random_state\"] = 42"
   ]
  },
  {
   "cell_type": "markdown",
   "metadata": {},
   "source": [
    "## Load query dataset"
   ]
  },
  {
   "cell_type": "code",
   "execution_count": 3,
   "metadata": {},
   "outputs": [],
   "source": [
    "# train and test\n",
    "train_data  = pd.read_csv(train_data_path)\n",
    "test_data  = pd.read_csv(test_data_path)"
   ]
  },
  {
   "cell_type": "code",
   "execution_count": 45,
   "metadata": {},
   "outputs": [
    {
     "output_type": "execute_result",
     "data": {
      "text/plain": [
       "                                                text        intent\n",
       "0                     I am still waiting on my card?  card_arrival\n",
       "1  What can I do if my card still hasn't arrived ...  card_arrival\n",
       "2  I have been waiting over a week. Is the card s...  card_arrival\n",
       "3  Can I track my card while it is in the process...  card_arrival\n",
       "4  How do I know if I will get my card, or if it ...  card_arrival"
      ],
      "text/html": "<div>\n<style scoped>\n    .dataframe tbody tr th:only-of-type {\n        vertical-align: middle;\n    }\n\n    .dataframe tbody tr th {\n        vertical-align: top;\n    }\n\n    .dataframe thead th {\n        text-align: right;\n    }\n</style>\n<table border=\"1\" class=\"dataframe\">\n  <thead>\n    <tr style=\"text-align: right;\">\n      <th></th>\n      <th>text</th>\n      <th>intent</th>\n    </tr>\n  </thead>\n  <tbody>\n    <tr>\n      <th>0</th>\n      <td>I am still waiting on my card?</td>\n      <td>card_arrival</td>\n    </tr>\n    <tr>\n      <th>1</th>\n      <td>What can I do if my card still hasn't arrived ...</td>\n      <td>card_arrival</td>\n    </tr>\n    <tr>\n      <th>2</th>\n      <td>I have been waiting over a week. Is the card s...</td>\n      <td>card_arrival</td>\n    </tr>\n    <tr>\n      <th>3</th>\n      <td>Can I track my card while it is in the process...</td>\n      <td>card_arrival</td>\n    </tr>\n    <tr>\n      <th>4</th>\n      <td>How do I know if I will get my card, or if it ...</td>\n      <td>card_arrival</td>\n    </tr>\n  </tbody>\n</table>\n</div>"
     },
     "metadata": {},
     "execution_count": 45
    }
   ],
   "source": [
    "# show\n",
    "train_data.head(5)"
   ]
  },
  {
   "cell_type": "code",
   "execution_count": 46,
   "metadata": {},
   "outputs": [
    {
     "output_type": "execute_result",
     "data": {
      "text/plain": [
       "                                                text        intent\n",
       "0                           How do I locate my card?  card_arrival\n",
       "1  I still have not received my new card, I order...  card_arrival\n",
       "2  I ordered a card but it has not arrived. Help ...  card_arrival\n",
       "3   Is there a way to know when my card will arrive?  card_arrival\n",
       "4                       My card has not arrived yet.  card_arrival"
      ],
      "text/html": "<div>\n<style scoped>\n    .dataframe tbody tr th:only-of-type {\n        vertical-align: middle;\n    }\n\n    .dataframe tbody tr th {\n        vertical-align: top;\n    }\n\n    .dataframe thead th {\n        text-align: right;\n    }\n</style>\n<table border=\"1\" class=\"dataframe\">\n  <thead>\n    <tr style=\"text-align: right;\">\n      <th></th>\n      <th>text</th>\n      <th>intent</th>\n    </tr>\n  </thead>\n  <tbody>\n    <tr>\n      <th>0</th>\n      <td>How do I locate my card?</td>\n      <td>card_arrival</td>\n    </tr>\n    <tr>\n      <th>1</th>\n      <td>I still have not received my new card, I order...</td>\n      <td>card_arrival</td>\n    </tr>\n    <tr>\n      <th>2</th>\n      <td>I ordered a card but it has not arrived. Help ...</td>\n      <td>card_arrival</td>\n    </tr>\n    <tr>\n      <th>3</th>\n      <td>Is there a way to know when my card will arrive?</td>\n      <td>card_arrival</td>\n    </tr>\n    <tr>\n      <th>4</th>\n      <td>My card has not arrived yet.</td>\n      <td>card_arrival</td>\n    </tr>\n  </tbody>\n</table>\n</div>"
     },
     "metadata": {},
     "execution_count": 46
    }
   ],
   "source": [
    "# preview\n",
    "test_data.head(5)"
   ]
  },
  {
   "cell_type": "markdown",
   "metadata": {},
   "source": [
    "### Normalize headers"
   ]
  },
  {
   "cell_type": "code",
   "execution_count": 6,
   "metadata": {},
   "outputs": [],
   "source": [
    "def standardize_col_names(data:pd.DataFrame):\n",
    "    return data.rename(columns={\"text\":\"text\",\"category\":\"intent\"})"
   ]
  },
  {
   "cell_type": "code",
   "execution_count": 7,
   "metadata": {},
   "outputs": [],
   "source": [
    "train_data = standardize_col_names(train_data)\n",
    "test_data = standardize_col_names(test_data)"
   ]
  },
  {
   "cell_type": "markdown",
   "metadata": {},
   "source": [
    "### Describe "
   ]
  },
  {
   "cell_type": "code",
   "execution_count": 8,
   "metadata": {
    "tags": []
   },
   "outputs": [
    {
     "output_type": "stream",
     "name": "stdout",
     "text": [
      "\nValue count:\n\ntext      10003\nintent    10003\ndtype: int64\n\nUnique values:\n\ntext      10003\nintent       77\ndtype: int64\n"
     ]
    }
   ],
   "source": [
    "print(\"\\nValue count:\\n\")\n",
    "print(train_data.count())\n",
    "print(\"\\nUnique values:\\n\")\n",
    "print(train_data.nunique())"
   ]
  },
  {
   "cell_type": "code",
   "execution_count": 9,
   "metadata": {},
   "outputs": [
    {
     "output_type": "execute_result",
     "data": {
      "text/plain": [
       "                             text        intent\n",
       "0  I am still waiting on my card?  card_arrival"
      ],
      "text/html": "<div>\n<style scoped>\n    .dataframe tbody tr th:only-of-type {\n        vertical-align: middle;\n    }\n\n    .dataframe tbody tr th {\n        vertical-align: top;\n    }\n\n    .dataframe thead th {\n        text-align: right;\n    }\n</style>\n<table border=\"1\" class=\"dataframe\">\n  <thead>\n    <tr style=\"text-align: right;\">\n      <th></th>\n      <th>text</th>\n      <th>intent</th>\n    </tr>\n  </thead>\n  <tbody>\n    <tr>\n      <th>0</th>\n      <td>I am still waiting on my card?</td>\n      <td>card_arrival</td>\n    </tr>\n  </tbody>\n</table>\n</div>"
     },
     "metadata": {},
     "execution_count": 9
    }
   ],
   "source": [
    "train_data.head(1)"
   ]
  },
  {
   "source": [
    "# QUERY CLUSTERING"
   ],
   "cell_type": "markdown",
   "metadata": {}
  },
  {
   "source": [
    "## Prep. calls"
   ],
   "cell_type": "markdown",
   "metadata": {}
  },
  {
   "cell_type": "code",
   "execution_count": 28,
   "metadata": {},
   "outputs": [
    {
     "output_type": "stream",
     "name": "stdout",
     "text": [
      "(normalize_document) took: 2.0 secs\n\nPreview:\n"
     ]
    },
    {
     "output_type": "execute_result",
     "data": {
      "text/plain": [
       "array(['still waiting card', 'card still hasnt arrived 2 weeks',\n",
       "       'waiting week card still coming', ..., 'countries getting support',\n",
       "       'cards available eu', 'countries represented'], dtype='<U309')"
      ]
     },
     "metadata": {},
     "execution_count": 28
    }
   ],
   "source": [
    "# prep\n",
    "stop_words = nltk.corpus.stopwords.words('english')\n",
    "\n",
    "def normalize_document(doc:list):\n",
    "    \"\"\"\n",
    "    Normalize document\n",
    "\n",
    "    parameters:\n",
    "    ---------\n",
    "    doc\n",
    "\n",
    "    return\n",
    "    ------\n",
    "    doc\n",
    "\n",
    "    \"\"\"\n",
    "    # lower case and drop special characters\\whitespaces\n",
    "    doc = re.sub(r'[^a-zA-Z0-9\\s]', '', doc, re.I|re.A)\n",
    "    doc = doc.lower()\n",
    "    doc = doc.strip()\n",
    "    \n",
    "    # tokenize\n",
    "    tokens = nltk.word_tokenize(doc)\n",
    "    \n",
    "    # drop stop words\n",
    "    filtered_tokens = [token for token in tokens if token not in stop_words]\n",
    "    \n",
    "    # re-create doc from filtered tokens\n",
    "    doc = ' '.join(filtered_tokens)\n",
    "    return doc\n",
    "\n",
    "# time\n",
    "tic = time.time()\n",
    "\n",
    "# vectorize doc\n",
    "normalize_corpus = np.vectorize(normalize_document)\n",
    "\n",
    "# normalize doc\n",
    "norm_corpus = normalize_corpus(list(train_data['text']))\n",
    "len(norm_corpus)\n",
    "print(f\"(normalize_document) took: {round(time.time()-tic,2)} secs\")\n",
    "\n",
    "# show\n",
    "print(\"\\nPreview:\")\n",
    "\n",
    "norm_corpus"
   ]
  },
  {
   "source": [
    "## Vectorize queries as B-O-W"
   ],
   "cell_type": "markdown",
   "metadata": {}
  },
  {
   "cell_type": "code",
   "execution_count": 58,
   "metadata": {},
   "outputs": [
    {
     "output_type": "stream",
     "name": "stdout",
     "text": [
      "(vectorization:tf-idf) shape:(10003, 1205), took 0.24 secs\n"
     ]
    }
   ],
   "source": [
    "tic = time.time()\n",
    "cv = CountVectorizer(\n",
    "    ngram_range=(1, 2), \n",
    "    min_df=params[\"tfidf\"][\"MIN_DF\"], \n",
    "    max_df=params[\"tfidf\"][\"MAX_DF\"], \n",
    "    stop_words=params[\"stop_words\"]\n",
    "    )\n",
    "cv_matrix = cv.fit_transform(norm_corpus)\n",
    "print(f\"(vectorization:tf-idf) shape:{cv_matrix.shape}, took {round(time.time()-tic,2)} secs\")"
   ]
  },
  {
   "source": [
    "## Cluster queries w/ K-Means"
   ],
   "cell_type": "markdown",
   "metadata": {}
  },
  {
   "cell_type": "code",
   "execution_count": 70,
   "metadata": {},
   "outputs": [
    {
     "output_type": "stream",
     "name": "stdout",
     "text": [
      "(clustering:kmeans) model:KMeans(max_iter=1000, n_clusters=6, n_init=50, random_state=42), took 3.72 secs\n"
     ]
    }
   ],
   "source": [
    "tic = time.time()\n",
    "km = KMeans(\n",
    "    n_clusters=params[\"kmeans\"][\"NUM_CLUSTERS\"], \n",
    "    max_iter=params[\"kmeans\"][\"max_iter\"], \n",
    "    n_init=params[\"kmeans\"][\"n_init\"], \n",
    "    random_state=params[\"kmeans\"][\"random_state\"],\n",
    "    ).fit(cv_matrix)\n",
    "print(f\"(clustering:kmeans) model:{km}, took {round(time.time()-tic,2)} secs\")"
   ]
  },
  {
   "cell_type": "code",
   "execution_count": 88,
   "metadata": {},
   "outputs": [
    {
     "output_type": "execute_result",
     "data": {
      "text/plain": [
       "Counter({1: 2431, 0: 3972, 3: 987, 5: 538, 4: 1227, 2: 848})"
      ]
     },
     "metadata": {},
     "execution_count": 88
    }
   ],
   "source": [
    "# Describe\n",
    "# count reviews (\"docs\") per label\n",
    "from collections import Counter\n",
    "Counter(km.labels_)"
   ]
  },
  {
   "cell_type": "code",
   "execution_count": 91,
   "metadata": {},
   "outputs": [
    {
     "output_type": "execute_result",
     "data": {
      "text/plain": [
       "                                                text        intent  \\\n",
       "0                     I am still waiting on my card?  card_arrival   \n",
       "1  What can I do if my card still hasn't arrived ...  card_arrival   \n",
       "2  I have been waiting over a week. Is the card s...  card_arrival   \n",
       "3  Can I track my card while it is in the process...  card_arrival   \n",
       "4  How do I know if I will get my card, or if it ...  card_arrival   \n",
       "\n",
       "   kmeans_label  \n",
       "0             1  \n",
       "1             1  \n",
       "2             1  \n",
       "3             1  \n",
       "4             1  "
      ],
      "text/html": "<div>\n<style scoped>\n    .dataframe tbody tr th:only-of-type {\n        vertical-align: middle;\n    }\n\n    .dataframe tbody tr th {\n        vertical-align: top;\n    }\n\n    .dataframe thead th {\n        text-align: right;\n    }\n</style>\n<table border=\"1\" class=\"dataframe\">\n  <thead>\n    <tr style=\"text-align: right;\">\n      <th></th>\n      <th>text</th>\n      <th>intent</th>\n      <th>kmeans_label</th>\n    </tr>\n  </thead>\n  <tbody>\n    <tr>\n      <th>0</th>\n      <td>I am still waiting on my card?</td>\n      <td>card_arrival</td>\n      <td>1</td>\n    </tr>\n    <tr>\n      <th>1</th>\n      <td>What can I do if my card still hasn't arrived ...</td>\n      <td>card_arrival</td>\n      <td>1</td>\n    </tr>\n    <tr>\n      <th>2</th>\n      <td>I have been waiting over a week. Is the card s...</td>\n      <td>card_arrival</td>\n      <td>1</td>\n    </tr>\n    <tr>\n      <th>3</th>\n      <td>Can I track my card while it is in the process...</td>\n      <td>card_arrival</td>\n      <td>1</td>\n    </tr>\n    <tr>\n      <th>4</th>\n      <td>How do I know if I will get my card, or if it ...</td>\n      <td>card_arrival</td>\n      <td>1</td>\n    </tr>\n  </tbody>\n</table>\n</div>"
     },
     "metadata": {},
     "execution_count": 91
    }
   ],
   "source": [
    "kmeans_labelled_train_data = train_data.copy(deep=True)\n",
    "kmeans_labelled_train_data['kmeans_label'] = km.labels_ \n",
    "kmeans_labelled_train_data.head()"
   ]
  },
  {
   "source": [
    "# REVERSE ENGINEERING HUMAN ANNOTATIONS"
   ],
   "cell_type": "markdown",
   "metadata": {}
  },
  {
   "source": [
    "## Explore CLUSTERS\n",
    "\n",
    "### Explore clusters' requests"
   ],
   "cell_type": "markdown",
   "metadata": {}
  },
  {
   "cell_type": "code",
   "execution_count": 190,
   "metadata": {},
   "outputs": [
    {
     "output_type": "display_data",
     "data": {
      "text/plain": "interactive(children=(Dropdown(description='LABEL', options=(0, 1, 2, 3, 4, 5), value=0), IntSlider(value=5001…",
      "application/vnd.jupyter.widget-view+json": {
       "version_major": 2,
       "version_minor": 0,
       "model_id": "450cf2ca8c8b4945a9b5ede0437cb611"
      }
     },
     "metadata": {}
    }
   ],
   "source": [
    "# interactive\n",
    "def show_requests(LABEL, text_ix):\n",
    "    VIEW_WINDOW = 10\n",
    "    return kmeans_labelled_train_data[kmeans_labelled_train_data.kmeans_label.eq(LABEL)].text.iloc[text_ix:text_ix+VIEW_WINDOW];\n",
    "\n",
    "interact(\n",
    "    show_requests, \n",
    "    LABEL=np.unique(km.labels_), \n",
    "    text_ix=(0, len(kmeans_labelled_train_data))\n",
    "    );"
   ]
  },
  {
   "source": [
    "### Reduce requests to 3D statements (intendee,intent,intendeed)\n",
    "\n",
    "* Reduce request's dimenionality and plot\n",
    "    * transform to triple: (intendee, intent, indended)\n",
    "* Grammatical knowledge\n",
    "    * Interrogative\n",
    "        * What?\n",
    "        * Why?\n",
    "        * How? : know_how\n",
    "        * Where? : get_location\n",
    "        * Who?\n",
    "    * declarative \n",
    "        * passive\n",
    "        * active\n",
    "    * exclamative\n",
    "    * imperative"
   ],
   "cell_type": "markdown",
   "metadata": {}
  },
  {
   "source": [
    "# References"
   ],
   "cell_type": "markdown",
   "metadata": {}
  },
  {
   "cell_type": "code",
   "execution_count": null,
   "metadata": {},
   "outputs": [],
   "source": []
  },
  {
   "source": [
    "(1) https://www.nltk.org/_modules/nltk/ccg/chart.html  \n",
    "(2) https://github.com/dipanjanS/text-analytics-with-python/blob/master/New-Second-Edition/Ch07 - Text Similarity and Clustering/Ch07c - Document Clustering.ipynb   \n",
    "(3) https://www.martechvibe.com/insights/staff-articles/how-intent-analysis-can-help-programmatic-advertising/#:~:text=Intent analysis is a step,user's intention behind the message.  "
   ],
   "cell_type": "markdown",
   "metadata": {}
  },
  {
   "cell_type": "code",
   "execution_count": null,
   "metadata": {},
   "outputs": [],
   "source": []
  }
 ],
 "metadata": {
  "kernelspec": {
   "name": "python3",
   "display_name": "Python 3.6.10 64-bit ('intent': conda)",
   "metadata": {
    "interpreter": {
     "hash": "b321174aa8bda30359f2456b92364ad1fc4bb3682cd23b89ef7dfb1e69ab5093"
    }
   }
  },
  "language_info": {
   "codemirror_mode": {
    "name": "ipython",
    "version": 3
   },
   "file_extension": ".py",
   "mimetype": "text/x-python",
   "name": "python",
   "nbconvert_exporter": "python",
   "pygments_lexer": "ipython3",
   "version": "3.6.10-final"
  },
  "toc": {
   "base_numbering": 1,
   "nav_menu": {},
   "number_sections": true,
   "sideBar": true,
   "skip_h1_title": false,
   "title_cell": "Table of Contents",
   "title_sidebar": "Contents",
   "toc_cell": false,
   "toc_position": {},
   "toc_section_display": true,
   "toc_window_display": true
  },
  "varInspector": {
   "cols": {
    "lenName": 16,
    "lenType": 16,
    "lenVar": 40
   },
   "kernels_config": {
    "python": {
     "delete_cmd_postfix": "",
     "delete_cmd_prefix": "del ",
     "library": "var_list.py",
     "varRefreshCmd": "print(var_dic_list())"
    },
    "r": {
     "delete_cmd_postfix": ") ",
     "delete_cmd_prefix": "rm(",
     "library": "var_list.r",
     "varRefreshCmd": "cat(var_dic_list()) "
    }
   },
   "oldHeight": 242,
   "position": {
    "height": "40px",
    "left": "31px",
    "right": "20px",
    "top": "522px",
    "width": "351px"
   },
   "types_to_exclude": [
    "module",
    "function",
    "builtin_function_or_method",
    "instance",
    "_Feature"
   ],
   "varInspector_section_display": "none",
   "window_display": true
  }
 },
 "nbformat": 4,
 "nbformat_minor": 4
}