{
 "cells": [
  {
   "cell_type": "markdown",
   "metadata": {},
   "source": [
    "# INTENT PARSING"
   ]
  },
  {
   "cell_type": "markdown",
   "metadata": {},
   "source": [
    " * **Purpose** :\n",
    "   * Test intent parsing with ALLENLP"
   ]
  },
  {
   "cell_type": "markdown",
   "metadata": {},
   "source": [
    "# TABLE OF CONTENT\n",
    "#SETUP\n",
    "#PARAMETERS\n",
    "#PARSING\n",
    "## Allennlp\n",
    "## VP extraction"
   ]
  },
  {
   "cell_type": "markdown",
   "metadata": {},
   "source": [
    "# SETUP"
   ]
  },
  {
   "cell_type": "code",
   "execution_count": 66,
   "metadata": {},
   "outputs": [],
   "source": [
    "import os\n",
    "from time import time\n",
    "\n",
    "import pandas as pd\n",
    "from nltk.tree import ParentedTree\n",
    "from pigeon import annotate\n",
    "\n",
    "proj_path = \"/Users/steeve_laquitaine/desktop/CodeHub/intent/intent/\"\n",
    "os.chdir(proj_path)\n",
    "\n",
    "from intent.src.intent.nodes import mood, parsing\n",
    "\n",
    "# dataframe display\n",
    "pd.set_option(\"display.max_colwidth\", 100)\n",
    "pd.set_option('display.notebook_repr_html', True)\n",
    "\n",
    "# to display df w/ nbconvert to pdf\n",
    "def _repr_latex_(self):\n",
    "    return \"\\centering{%s}\" % self.to_latex()\n",
    "pd.DataFrame._repr_latex_ = _repr_latex_  # monkey patch pandas DataFrame"
   ]
  },
  {
   "cell_type": "code",
   "execution_count": 67,
   "metadata": {},
   "outputs": [],
   "source": [
    "tr_data_path = proj_path + \"data/01_raw/banking77/train.csv\"\n",
    "test_data_path = proj_path + \"data/01_raw/banking77/test.csv\""
   ]
  },
  {
   "cell_type": "markdown",
   "metadata": {},
   "source": [
    "# PARAMETERS"
   ]
  },
  {
   "cell_type": "code",
   "execution_count": 68,
   "metadata": {},
   "outputs": [],
   "source": [
    "prm = dict()\n",
    "prm[\"sample\"] = 100\n",
    "prm[\"mood\"] = [\"declarative\"]\n",
    "# prm[\n",
    "#     \"intent_class\"\n",
    "# ] = \"card_arrival\"  # \"contactless_not_working\"  # small class with 35 samples\n",
    "prm[\"intent_class\"] = \"contactless_not_working\"  # small class with 35 samples\n"
   ]
  },
  {
   "cell_type": "code",
   "execution_count": 69,
   "metadata": {},
   "outputs": [],
   "source": [
    "# read queries data\n",
    "tr_data = pd.read_csv(tr_data_path)"
   ]
  },
  {
   "cell_type": "code",
   "execution_count": 70,
   "metadata": {},
   "outputs": [],
   "source": [
    "# select data for an input class\n",
    "data_class_i = tr_data[tr_data[\"category\"].eq(prm[\"intent_class\"])]"
   ]
  },
  {
   "cell_type": "code",
   "execution_count": 71,
   "metadata": {},
   "outputs": [
    {
     "data": {
      "text/html": [
       "<div>\n",
       "<style scoped>\n",
       "    .dataframe tbody tr th:only-of-type {\n",
       "        vertical-align: middle;\n",
       "    }\n",
       "\n",
       "    .dataframe tbody tr th {\n",
       "        vertical-align: top;\n",
       "    }\n",
       "\n",
       "    .dataframe thead th {\n",
       "        text-align: right;\n",
       "    }\n",
       "</style>\n",
       "<table border=\"1\" class=\"dataframe\">\n",
       "  <thead>\n",
       "    <tr style=\"text-align: right;\">\n",
       "      <th></th>\n",
       "      <th>text</th>\n",
       "      <th>category</th>\n",
       "    </tr>\n",
       "  </thead>\n",
       "  <tbody>\n",
       "    <tr>\n",
       "      <th>1782</th>\n",
       "      <td>Should i uninstall the app before i try it again?</td>\n",
       "      <td>contactless_not_working</td>\n",
       "    </tr>\n",
       "    <tr>\n",
       "      <th>1783</th>\n",
       "      <td>How come when I tried to pay contactless at the bus it didnt work?</td>\n",
       "      <td>contactless_not_working</td>\n",
       "    </tr>\n",
       "    <tr>\n",
       "      <th>1784</th>\n",
       "      <td>Why is my contactless not working?</td>\n",
       "      <td>contactless_not_working</td>\n",
       "    </tr>\n",
       "    <tr>\n",
       "      <th>1785</th>\n",
       "      <td>My contactless payments don't work.</td>\n",
       "      <td>contactless_not_working</td>\n",
       "    </tr>\n",
       "    <tr>\n",
       "      <th>1786</th>\n",
       "      <td>how many days processing new card?</td>\n",
       "      <td>contactless_not_working</td>\n",
       "    </tr>\n",
       "  </tbody>\n",
       "</table>\n",
       "</div>"
      ],
      "text/latex": [
       "\\centering{\\begin{tabular}{lll}\n",
       "\\toprule\n",
       "{} &                                                                text &                 category \\\\\n",
       "\\midrule\n",
       "1782 &                   Should i uninstall the app before i try it again? &  contactless\\_not\\_working \\\\\n",
       "1783 &  How come when I tried to pay contactless at the bus it didnt work? &  contactless\\_not\\_working \\\\\n",
       "1784 &                                  Why is my contactless not working? &  contactless\\_not\\_working \\\\\n",
       "1785 &                                 My contactless payments don't work. &  contactless\\_not\\_working \\\\\n",
       "1786 &                                  how many days processing new card? &  contactless\\_not\\_working \\\\\n",
       "\\bottomrule\n",
       "\\end{tabular}\n",
       "}"
      ],
      "text/plain": [
       "                                                                    text  \\\n",
       "1782                   Should i uninstall the app before i try it again?   \n",
       "1783  How come when I tried to pay contactless at the bus it didnt work?   \n",
       "1784                                  Why is my contactless not working?   \n",
       "1785                                 My contactless payments don't work.   \n",
       "1786                                  how many days processing new card?   \n",
       "\n",
       "                     category  \n",
       "1782  contactless_not_working  \n",
       "1783  contactless_not_working  \n",
       "1784  contactless_not_working  \n",
       "1785  contactless_not_working  \n",
       "1786  contactless_not_working  "
      ]
     },
     "execution_count": 71,
     "metadata": {},
     "output_type": "execute_result"
    }
   ],
   "source": [
    "data_class_i.head(5)"
   ]
  },
  {
   "cell_type": "code",
   "execution_count": 72,
   "metadata": {},
   "outputs": [],
   "source": [
    "sample = data_class_i[\"text\"].iloc[0]"
   ]
  },
  {
   "cell_type": "markdown",
   "metadata": {},
   "source": [
    "# PARSING"
   ]
  },
  {
   "cell_type": "code",
   "execution_count": 73,
   "metadata": {},
   "outputs": [],
   "source": [
    "# to display df w/ nbconvert to pdf\n",
    "def _repr_latex_(self):\n",
    "    return \"\\raggedright{%s}\" % self.to_latex()\n",
    "pd.DataFrame._repr_latex_ = _repr_latex_  # monkey patch pandas DataFrame"
   ]
  },
  {
   "cell_type": "markdown",
   "metadata": {},
   "source": [
    "## ALLENLP"
   ]
  },
  {
   "cell_type": "markdown",
   "metadata": {},
   "source": [
    " * **Purpose** :\n",
    "   * Test intent parsing with ALLENLP"
   ]
  },
  {
   "cell_type": "markdown",
   "metadata": {},
   "source": [
    "#TABLE OF CONTENT\n",
    "#SETUP\n",
    "#PARAMETERS\n",
    "#PARSING\n",
    "##Allennlp\n",
    "##VP extraction"
   ]
  }
 ],
 "metadata": {
  "kernelspec": {
   "display_name": "Python 3",
   "language": "python",
   "name": "python3"
  },
  "toc": {
   "base_numbering": 1,
   "nav_menu": {},
   "number_sections": true,
   "sideBar": true,
   "skip_h1_title": false,
   "title_cell": "Table of Contents",
   "title_sidebar": "Contents",
   "toc_cell": false,
   "toc_position": {},
   "toc_section_display": true,
   "toc_window_display": false
  },
  "varInspector": {
   "cols": {
    "lenName": 16,
    "lenType": 16,
    "lenVar": 40
   },
   "kernels_config": {
    "python": {
     "delete_cmd_postfix": "",
     "delete_cmd_prefix": "del ",
     "library": "var_list.py",
     "varRefreshCmd": "print(var_dic_list())"
    },
    "r": {
     "delete_cmd_postfix": ") ",
     "delete_cmd_prefix": "rm(",
     "library": "var_list.r",
     "varRefreshCmd": "cat(var_dic_list()) "
    }
   },
   "types_to_exclude": [
    "module",
    "function",
    "builtin_function_or_method",
    "instance",
    "_Feature"
   ],
   "window_display": false
  }
 },
 "nbformat": 4,
 "nbformat_minor": 2
}
